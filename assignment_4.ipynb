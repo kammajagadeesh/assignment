{
 "cells": [
  {
   "cell_type": "code",
   "execution_count": null,
   "metadata": {},
   "outputs": [],
   "source": [
    "1.1 Write a Python Program(with class concepts) to find the area of the triangle"
   ]
  },
  {
   "cell_type": "code",
   "execution_count": 15,
   "metadata": {},
   "outputs": [
    {
     "name": "stdout",
     "output_type": "stream",
     "text": [
      "Enters length of side A: 3\n",
      "Enters length of side B: 4\n",
      "Enters length of side C: 5\n"
     ]
    },
    {
     "data": {
      "text/plain": [
       "6.0"
      ]
     },
     "execution_count": 15,
     "metadata": {},
     "output_type": "execute_result"
    }
   ],
   "source": [
    "class InputClass():\n",
    "    def __init__(self, a=1, b=1, c=2):\n",
    "        self.a = a\n",
    "        self.b = b\n",
    "        self.c = c\n",
    "    def sides_length(self):\n",
    "        self.a = float(input('Enters length of side A: '))\n",
    "        self.b = float(input('Enters length of side B: '))\n",
    "        self.c = float(input('Enters length of side C: '))\n",
    "        \n",
    "        \n",
    "class CalculationClass(InputClass):\n",
    "    def area_of_triangle(self):\n",
    "        super().sides_length()\n",
    "        s = (self.a + self.b + self.c)/2\n",
    "        area = (s*(s-self.a)*(s-self.b)*(s-self.c))**0.5\n",
    "        return round(area,2)\n",
    "        \n",
    "c2 = CalculationClass()\n",
    "c2.area_of_triangle()"
   ]
  },
  {
   "cell_type": "code",
   "execution_count": null,
   "metadata": {},
   "outputs": [],
   "source": [
    "Write a function filter_long_words() that takes a list of words and an integer n and returns\n",
    "the list of words that are longer than n."
   ]
  },
  {
   "cell_type": "code",
   "execution_count": 18,
   "metadata": {},
   "outputs": [
    {
     "data": {
      "text/plain": [
       "['apple', 'ineuron']"
      ]
     },
     "execution_count": 18,
     "metadata": {},
     "output_type": "execute_result"
    }
   ],
   "source": [
    "def filter_long_words(words, n):\n",
    "    longer_words = []\n",
    "    for i in words:\n",
    "        if len(i) > n:\n",
    "            longer_words.append(i)\n",
    "    \n",
    "    return longer_words\n",
    "\n",
    "filter_long_words(['apple', 'pop', 'cat', 'ineuron'], 4)"
   ]
  },
  {
   "cell_type": "code",
   "execution_count": null,
   "metadata": {},
   "outputs": [],
   "source": [
    "Write a Python program using function concept that maps list of words into a list of integers\n",
    "representing the lengths of the corresponding words."
   ]
  },
  {
   "cell_type": "code",
   "execution_count": 20,
   "metadata": {},
   "outputs": [
    {
     "data": {
      "text/plain": [
       "[2, 3, 4]"
      ]
     },
     "execution_count": 20,
     "metadata": {},
     "output_type": "execute_result"
    }
   ],
   "source": [
    "def length_of_words(words):\n",
    "    words_length = []\n",
    "    for i in words:\n",
    "        words_length.append(len(i))\n",
    "        \n",
    "    return words_length\n",
    "\n",
    "length_of_words(['ab','cde','erty'])"
   ]
  },
  {
   "cell_type": "code",
   "execution_count": null,
   "metadata": {},
   "outputs": [],
   "source": [
    "Write a Python function which takes a character (i.e. a string of length 1) and returns True if\n",
    "it is a vowel, False otherwise."
   ]
  },
  {
   "cell_type": "code",
   "execution_count": 24,
   "metadata": {},
   "outputs": [
    {
     "name": "stdout",
     "output_type": "stream",
     "text": [
      "Enter a character: c\n"
     ]
    },
    {
     "data": {
      "text/plain": [
       "False"
      ]
     },
     "execution_count": 24,
     "metadata": {},
     "output_type": "execute_result"
    }
   ],
   "source": [
    "def is_vowel(ch):\n",
    "    if ch in ('a', 'e', 'i', 'o', 'u'):\n",
    "        return True\n",
    "    else:\n",
    "        return False\n",
    "    \n",
    "ch = input(\"Enter a character: \")\n",
    "is_vowel(ch)"
   ]
  }
 ],
 "metadata": {
  "kernelspec": {
   "display_name": "Python 3",
   "language": "python",
   "name": "python3"
  },
  "language_info": {
   "codemirror_mode": {
    "name": "ipython",
    "version": 3
   },
   "file_extension": ".py",
   "mimetype": "text/x-python",
   "name": "python",
   "nbconvert_exporter": "python",
   "pygments_lexer": "ipython3",
   "version": "3.8.3"
  }
 },
 "nbformat": 4,
 "nbformat_minor": 4
}
